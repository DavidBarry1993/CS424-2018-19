{
 "cells": [
  {
   "cell_type": "markdown",
   "metadata": {
    "slideshow": {
     "slide_type": "slide"
    }
   },
   "source": [
    "# Intro to HTTP\n",
    "Hypertext Transfer Protocol is exactly that.\n",
    "\n",
    "A typical communication between a browser and and server goes as follows \n",
    "\n",
    "* The **client** (often a browser) makes a **request** to the **server** for a certain **resource**\n",
    "* The server processes the request and then returns a **response** to the client.\n",
    "\n",
    "Both request and response use HTTP to convey information. An HTTP message consists of some **headers** which contain meta information about the message and a message **body** which consists of some data (possibly empty).  "
   ]
  },
  {
   "cell_type": "markdown",
   "metadata": {
    "slideshow": {
     "slide_type": "slide"
    }
   },
   "source": [
    "```\n",
    "GET /~jim/ HTTP/1.1\n",
    "Host: jupyter.nuigalway.ie:8080\n",
    "Connection: keep-alive\n",
    "Upgrade-Insecure-Requests: 1\n",
    "User-Agent: Mozilla/5.0 (X11; Linux x86_64) AppleWebKit/537.36 (KHTML, like Gecko) Chrome/69.0.3497.92 Safari/537.36\n",
    "Accept: text/html,application/xhtml+xml,application/xml;q=0.9,image/webp,image/apng,*/*;q=0.8\n",
    "Accept-Encoding: gzip, deflate\n",
    "Accept-Language: en-US,en;q=0.9\n",
    "Cookie: _xsrf=2|c27c2a5c|974a2b68f2d288f447e5b126b9f0ec91|1537130384\n",
    "If-None-Match: \"45-5761171155198-gzip\"\n",
    "If-Modified-Since: Mon, 17 Sep 2018 13:49:27 GMT\n",
    "```\n",
    "\n"
   ]
  },
  {
   "cell_type": "markdown",
   "metadata": {
    "slideshow": {
     "slide_type": "slide"
    }
   },
   "source": [
    "* GET is a HTTP verb; this request is to \"get\" a resource\n",
    "* protocol+host+resource combine to give the URL (=**Uniform Resource Locator**) that you typically see in a browser. In this case `http://jupyter.nuigalway.ie:8080/~jim/`.\n",
    "* the remaining headers convey meta information about the request\n",
    "\n",
    "There are several different HTTP verbs. GET, POST, PUT, PATCH, DELETE are among the most important.\n",
    "\n",
    "Typing a URL into a browser usually issues a GET request. Submitting a form on a website often triggers a POST request. We'll talk about this in more detail later"
   ]
  },
  {
   "cell_type": "markdown",
   "metadata": {
    "slideshow": {
     "slide_type": "slide"
    }
   },
   "source": [
    "Now lets look at the response:\n",
    "```\n",
    "HTTP/1.1 200 OK\n",
    "Date: Mon, 17 Sep 2018 21:06:19 GMT\n",
    "Server: Apache/2.4.27 (Ubuntu)\n",
    "Last-Modified: Mon, 17 Sep 2018 13:49:27 GMT\n",
    "ETag: \"45-5761171155198-gzip\"\n",
    "Accept-Ranges: bytes\n",
    "Vary: Accept-Encoding\n",
    "Content-Encoding: gzip\n",
    "Content-Length: 74\n",
    "Keep-Alive: timeout=5, max=100\n",
    "Connection: Keep-Alive\n",
    "Content-Type: text/html\n",
    "```"
   ]
  },
  {
   "cell_type": "markdown",
   "metadata": {
    "slideshow": {
     "slide_type": "slide"
    }
   },
   "source": [
    "The first line specifies the protocol and the response code `200 OK`\n",
    "\n",
    "See [https://en.wikipedia.org/wiki/List_of_HTTP_status_codes](https://en.wikipedia.org/wiki/List_of_HTTP_status_codes) for a complete list of status codes. There are 5 main categories of response codes \n",
    "* 1XX - Informational responses\n",
    "* 2XX - Success\n",
    "* 3XX - Redirection\n",
    "* 4XX - Client error\n",
    "* 5XX - Server error\n",
    "\n",
    "Well designed web applications repsond with the correct code, making the application much easier to use (frameworks like Django automate this process)"
   ]
  },
  {
   "cell_type": "code",
   "execution_count": 5,
   "metadata": {
    "slideshow": {
     "slide_type": "slide"
    }
   },
   "outputs": [],
   "source": [
    "# requests is a python library that is useful for dealing directly with HTTP requests\n",
    "import requests\n",
    "response = requests.get('http://www.nuigalway.ie')\n",
    "request = response.request"
   ]
  },
  {
   "cell_type": "code",
   "execution_count": null,
   "metadata": {},
   "outputs": [],
   "source": []
  }
 ],
 "metadata": {
  "celltoolbar": "Slideshow",
  "kernelspec": {
   "display_name": "Python 3",
   "language": "python",
   "name": "python3"
  },
  "language_info": {
   "codemirror_mode": {
    "name": "ipython",
    "version": 3
   },
   "file_extension": ".py",
   "mimetype": "text/x-python",
   "name": "python",
   "nbconvert_exporter": "python",
   "pygments_lexer": "ipython3",
   "version": "3.6.2"
  }
 },
 "nbformat": 4,
 "nbformat_minor": 2
}
